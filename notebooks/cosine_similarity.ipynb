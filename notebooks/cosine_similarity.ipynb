{
 "cells": [
  {
   "cell_type": "markdown",
   "id": "2bbf2856-daec-44c3-a1d2-541707f9e69e",
   "metadata": {},
   "source": [
    "# Importing Libraries"
   ]
  },
  {
   "cell_type": "code",
   "execution_count": 10,
   "id": "3bd5134b-41c0-4cc9-8906-0cfd2b982f99",
   "metadata": {},
   "outputs": [],
   "source": [
    "import pandas as pd\n",
    "import numpy as np\n",
    "from sklearn.metrics.pairwise import cosine_similarity\n",
    "import unicodedata"
   ]
  },
  {
   "cell_type": "markdown",
   "id": "b7805e8c-03ac-4488-8f32-c5dc6683a485",
   "metadata": {},
   "source": [
    "# Build Cosine Similarity Matrix"
   ]
  },
  {
   "cell_type": "code",
   "execution_count": 2,
   "id": "bd1bfbe2-9dd1-4af5-b3f4-852648759f2e",
   "metadata": {},
   "outputs": [],
   "source": [
    "df = pd.read_pickle('../models/movies.pkl')"
   ]
  },
  {
   "cell_type": "code",
   "execution_count": 3,
   "id": "e0aa6ca7-8498-480c-ae3c-4ea349cfef3b",
   "metadata": {},
   "outputs": [
    {
     "data": {
      "text/html": [
       "<div>\n",
       "<style scoped>\n",
       "    .dataframe tbody tr th:only-of-type {\n",
       "        vertical-align: middle;\n",
       "    }\n",
       "\n",
       "    .dataframe tbody tr th {\n",
       "        vertical-align: top;\n",
       "    }\n",
       "\n",
       "    .dataframe thead th {\n",
       "        text-align: right;\n",
       "    }\n",
       "</style>\n",
       "<table border=\"1\" class=\"dataframe\">\n",
       "  <thead>\n",
       "    <tr style=\"text-align: right;\">\n",
       "      <th></th>\n",
       "      <th>id</th>\n",
       "      <th>title</th>\n",
       "      <th>combined_vector</th>\n",
       "    </tr>\n",
       "  </thead>\n",
       "  <tbody>\n",
       "    <tr>\n",
       "      <th>0</th>\n",
       "      <td>19995</td>\n",
       "      <td>Avatar</td>\n",
       "      <td>[-0.1620263159275055, 0.12982472777366638, -0....</td>\n",
       "    </tr>\n",
       "    <tr>\n",
       "      <th>1</th>\n",
       "      <td>285</td>\n",
       "      <td>Pirates of the Caribbean: At World's End</td>\n",
       "      <td>[-0.37325799465179443, 0.038260865956544876, -...</td>\n",
       "    </tr>\n",
       "    <tr>\n",
       "      <th>2</th>\n",
       "      <td>206647</td>\n",
       "      <td>Spectre</td>\n",
       "      <td>[-0.2768787145614624, -0.5192937254905701, -0....</td>\n",
       "    </tr>\n",
       "    <tr>\n",
       "      <th>3</th>\n",
       "      <td>49026</td>\n",
       "      <td>The Dark Knight Rises</td>\n",
       "      <td>[0.15796813368797302, 0.19392867386341095, -0....</td>\n",
       "    </tr>\n",
       "    <tr>\n",
       "      <th>4</th>\n",
       "      <td>49529</td>\n",
       "      <td>John Carter</td>\n",
       "      <td>[-0.07674223184585571, 0.04946580156683922, -0...</td>\n",
       "    </tr>\n",
       "  </tbody>\n",
       "</table>\n",
       "</div>"
      ],
      "text/plain": [
       "       id                                     title  \\\n",
       "0   19995                                    Avatar   \n",
       "1     285  Pirates of the Caribbean: At World's End   \n",
       "2  206647                                   Spectre   \n",
       "3   49026                     The Dark Knight Rises   \n",
       "4   49529                               John Carter   \n",
       "\n",
       "                                     combined_vector  \n",
       "0  [-0.1620263159275055, 0.12982472777366638, -0....  \n",
       "1  [-0.37325799465179443, 0.038260865956544876, -...  \n",
       "2  [-0.2768787145614624, -0.5192937254905701, -0....  \n",
       "3  [0.15796813368797302, 0.19392867386341095, -0....  \n",
       "4  [-0.07674223184585571, 0.04946580156683922, -0...  "
      ]
     },
     "execution_count": 3,
     "metadata": {},
     "output_type": "execute_result"
    }
   ],
   "source": [
    "df.head()"
   ]
  },
  {
   "cell_type": "code",
   "execution_count": 4,
   "id": "b12cde62-9c9f-404b-ba6b-9f4d0941ce31",
   "metadata": {},
   "outputs": [
    {
     "name": "stdout",
     "output_type": "stream",
     "text": [
      "<class 'pandas.core.frame.DataFrame'>\n",
      "RangeIndex: 4800 entries, 0 to 4799\n",
      "Data columns (total 3 columns):\n",
      " #   Column           Non-Null Count  Dtype \n",
      "---  ------           --------------  ----- \n",
      " 0   id               4800 non-null   int64 \n",
      " 1   title            4800 non-null   object\n",
      " 2   combined_vector  4800 non-null   object\n",
      "dtypes: int64(1), object(2)\n",
      "memory usage: 112.6+ KB\n"
     ]
    }
   ],
   "source": [
    "df.info()"
   ]
  },
  {
   "cell_type": "code",
   "execution_count": 5,
   "id": "36b7f36f-0b22-4e0d-a150-c7f67cc3cd43",
   "metadata": {},
   "outputs": [],
   "source": [
    "vector_matrix = np.vstack(df['combined_vector'].values)\n",
    "similarity = cosine_similarity(vector_matrix)"
   ]
  },
  {
   "cell_type": "code",
   "execution_count": 6,
   "id": "e4a2468b-9f32-4f75-a935-6036460bcb7a",
   "metadata": {},
   "outputs": [
    {
     "name": "stdout",
     "output_type": "stream",
     "text": [
      "[[1.         0.92772825 0.86237849 ... 0.80724776 0.76075033 0.74917085]\n",
      " [0.92772825 1.         0.85983509 ... 0.85053232 0.81787527 0.78863923]\n",
      " [0.86237849 0.85983509 1.         ... 0.87825029 0.83866956 0.78207056]\n",
      " ...\n",
      " [0.80724776 0.85053232 0.87825029 ... 1.         0.92522087 0.89143217]\n",
      " [0.76075033 0.81787527 0.83866956 ... 0.92522087 1.         0.90973808]\n",
      " [0.74917085 0.78863923 0.78207056 ... 0.89143217 0.90973808 1.        ]]\n"
     ]
    }
   ],
   "source": [
    "print(similarity)"
   ]
  },
  {
   "cell_type": "code",
   "execution_count": 7,
   "id": "b9c8940f-8004-46b7-9efa-86303d596506",
   "metadata": {},
   "outputs": [
    {
     "data": {
      "text/plain": [
       "(4800, 4800)"
      ]
     },
     "execution_count": 7,
     "metadata": {},
     "output_type": "execute_result"
    }
   ],
   "source": [
    "similarity.shape"
   ]
  },
  {
   "cell_type": "markdown",
   "id": "17b60ba5-14d9-4d4f-8b03-334769aebfe7",
   "metadata": {},
   "source": [
    "# Define Recommendation Function"
   ]
  },
  {
   "cell_type": "code",
   "execution_count": 8,
   "id": "cffe9625-4c36-4737-80c4-8f1a5ee0a105",
   "metadata": {},
   "outputs": [],
   "source": [
    "def recommend(movie):\n",
    "    matched = df[df['title'] == movie]\n",
    "    if matched.empty:\n",
    "        print(\"it is not in database\")\n",
    "        return\n",
    "    movie_index = matched.index[0]\n",
    "    distances = similarity[movie_index]\n",
    "    movie_list = sorted(list(enumerate(distances)),reverse=True,key=lambda x:x[1])[1:6]\n",
    "    for i in movie_list:\n",
    "        print(df.iloc[i[0]].title)"
   ]
  },
  {
   "cell_type": "code",
   "execution_count": 9,
   "id": "decb7ef2-391c-468d-9db5-082f2c35772d",
   "metadata": {},
   "outputs": [
    {
     "name": "stdout",
     "output_type": "stream",
     "text": [
      "Avengers: Age of Ultron\n",
      "Superman\n",
      "Mystery Men\n",
      "Time Bandits\n",
      "Superman III\n"
     ]
    }
   ],
   "source": [
    "recommend('Spider-Man 3')"
   ]
  },
  {
   "cell_type": "markdown",
   "id": "1cb9f448-21e6-4f36-8b77-94294fb369fe",
   "metadata": {},
   "source": [
    "# Save Similarity Matrix for Future Use"
   ]
  },
  {
   "cell_type": "code",
   "execution_count": 12,
   "id": "84146bfb-f81c-458e-969e-5f6972420ca6",
   "metadata": {},
   "outputs": [],
   "source": [
    "data = pd.DataFrame(similarity)\n",
    "data.to_csv(\"../models/similarityMat.csv\",index=False)"
   ]
  }
 ],
 "metadata": {
  "kernelspec": {
   "display_name": "DeepLearningEnv",
   "language": "python",
   "name": "deeplearningenv"
  },
  "language_info": {
   "codemirror_mode": {
    "name": "ipython",
    "version": 3
   },
   "file_extension": ".py",
   "mimetype": "text/x-python",
   "name": "python",
   "nbconvert_exporter": "python",
   "pygments_lexer": "ipython3",
   "version": "3.12.11"
  }
 },
 "nbformat": 4,
 "nbformat_minor": 5
}
