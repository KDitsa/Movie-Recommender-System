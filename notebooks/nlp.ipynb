{
 "cells": [
  {
   "cell_type": "markdown",
   "id": "38e89f77-9192-415e-be9c-6373e32fc96d",
   "metadata": {},
   "source": [
    "# Importing Libraries"
   ]
  },
  {
   "cell_type": "code",
   "execution_count": 1,
   "id": "88beede8-da33-45cb-909e-0e6439731f05",
   "metadata": {},
   "outputs": [],
   "source": [
    "import pandas as pd\n",
    "import numpy as np\n",
    "import nltk\n",
    "from nltk.corpus import stopwords\n",
    "from nltk.tokenize import word_tokenize\n",
    "from nltk.stem import WordNetLemmatizer\n",
    "import string\n",
    "from gensim.models import Word2Vec"
   ]
  },
  {
   "cell_type": "code",
   "execution_count": 2,
   "id": "014de639-9c9b-4167-9f0b-ccfcc9a4ff94",
   "metadata": {},
   "outputs": [],
   "source": [
    "df = pd.read_csv('../data/processed.csv')"
   ]
  },
  {
   "cell_type": "code",
   "execution_count": 3,
   "id": "2fb193c9-4a61-4d0f-b441-dabef7506bc6",
   "metadata": {},
   "outputs": [
    {
     "data": {
      "text/html": [
       "<div>\n",
       "<style scoped>\n",
       "    .dataframe tbody tr th:only-of-type {\n",
       "        vertical-align: middle;\n",
       "    }\n",
       "\n",
       "    .dataframe tbody tr th {\n",
       "        vertical-align: top;\n",
       "    }\n",
       "\n",
       "    .dataframe thead th {\n",
       "        text-align: right;\n",
       "    }\n",
       "</style>\n",
       "<table border=\"1\" class=\"dataframe\">\n",
       "  <thead>\n",
       "    <tr style=\"text-align: right;\">\n",
       "      <th></th>\n",
       "      <th>id</th>\n",
       "      <th>title</th>\n",
       "      <th>weighted_rating</th>\n",
       "      <th>description</th>\n",
       "    </tr>\n",
       "  </thead>\n",
       "  <tbody>\n",
       "    <tr>\n",
       "      <th>0</th>\n",
       "      <td>19995</td>\n",
       "      <td>Avatar</td>\n",
       "      <td>7.050580</td>\n",
       "      <td>In the 22nd century, a paraplegic Marine is di...</td>\n",
       "    </tr>\n",
       "    <tr>\n",
       "      <th>1</th>\n",
       "      <td>285</td>\n",
       "      <td>Pirates of the Caribbean: At World's End</td>\n",
       "      <td>6.665668</td>\n",
       "      <td>Captain Barbossa, long believed to be dead, ha...</td>\n",
       "    </tr>\n",
       "    <tr>\n",
       "      <th>2</th>\n",
       "      <td>206647</td>\n",
       "      <td>Spectre</td>\n",
       "      <td>6.239550</td>\n",
       "      <td>A cryptic message from Bond’s past sends him o...</td>\n",
       "    </tr>\n",
       "    <tr>\n",
       "      <th>3</th>\n",
       "      <td>49026</td>\n",
       "      <td>The Dark Knight Rises</td>\n",
       "      <td>7.346536</td>\n",
       "      <td>Following the death of District Attorney Harve...</td>\n",
       "    </tr>\n",
       "    <tr>\n",
       "      <th>4</th>\n",
       "      <td>49529</td>\n",
       "      <td>John Carter</td>\n",
       "      <td>6.096711</td>\n",
       "      <td>John Carter is a war-weary, former military ca...</td>\n",
       "    </tr>\n",
       "  </tbody>\n",
       "</table>\n",
       "</div>"
      ],
      "text/plain": [
       "       id                                     title  weighted_rating  \\\n",
       "0   19995                                    Avatar         7.050580   \n",
       "1     285  Pirates of the Caribbean: At World's End         6.665668   \n",
       "2  206647                                   Spectre         6.239550   \n",
       "3   49026                     The Dark Knight Rises         7.346536   \n",
       "4   49529                               John Carter         6.096711   \n",
       "\n",
       "                                         description  \n",
       "0  In the 22nd century, a paraplegic Marine is di...  \n",
       "1  Captain Barbossa, long believed to be dead, ha...  \n",
       "2  A cryptic message from Bond’s past sends him o...  \n",
       "3  Following the death of District Attorney Harve...  \n",
       "4  John Carter is a war-weary, former military ca...  "
      ]
     },
     "execution_count": 3,
     "metadata": {},
     "output_type": "execute_result"
    }
   ],
   "source": [
    "df.head()"
   ]
  },
  {
   "cell_type": "markdown",
   "id": "3f2d4dd7-ed40-40f3-a4f9-a0b4499a1c80",
   "metadata": {},
   "source": [
    "# Lowercasing"
   ]
  },
  {
   "cell_type": "code",
   "execution_count": 4,
   "id": "6d7450a3-53ed-4f68-a462-89261e424d3e",
   "metadata": {},
   "outputs": [],
   "source": [
    "df['description'] = df['description'].str.lower()"
   ]
  },
  {
   "cell_type": "code",
   "execution_count": 5,
   "id": "a3edd4a4-f8db-45a5-b0dc-25a8949f948d",
   "metadata": {},
   "outputs": [
    {
     "data": {
      "text/html": [
       "<div>\n",
       "<style scoped>\n",
       "    .dataframe tbody tr th:only-of-type {\n",
       "        vertical-align: middle;\n",
       "    }\n",
       "\n",
       "    .dataframe tbody tr th {\n",
       "        vertical-align: top;\n",
       "    }\n",
       "\n",
       "    .dataframe thead th {\n",
       "        text-align: right;\n",
       "    }\n",
       "</style>\n",
       "<table border=\"1\" class=\"dataframe\">\n",
       "  <thead>\n",
       "    <tr style=\"text-align: right;\">\n",
       "      <th></th>\n",
       "      <th>id</th>\n",
       "      <th>title</th>\n",
       "      <th>weighted_rating</th>\n",
       "      <th>description</th>\n",
       "    </tr>\n",
       "  </thead>\n",
       "  <tbody>\n",
       "    <tr>\n",
       "      <th>0</th>\n",
       "      <td>19995</td>\n",
       "      <td>Avatar</td>\n",
       "      <td>7.050580</td>\n",
       "      <td>in the 22nd century, a paraplegic marine is di...</td>\n",
       "    </tr>\n",
       "    <tr>\n",
       "      <th>1</th>\n",
       "      <td>285</td>\n",
       "      <td>Pirates of the Caribbean: At World's End</td>\n",
       "      <td>6.665668</td>\n",
       "      <td>captain barbossa, long believed to be dead, ha...</td>\n",
       "    </tr>\n",
       "    <tr>\n",
       "      <th>2</th>\n",
       "      <td>206647</td>\n",
       "      <td>Spectre</td>\n",
       "      <td>6.239550</td>\n",
       "      <td>a cryptic message from bond’s past sends him o...</td>\n",
       "    </tr>\n",
       "    <tr>\n",
       "      <th>3</th>\n",
       "      <td>49026</td>\n",
       "      <td>The Dark Knight Rises</td>\n",
       "      <td>7.346536</td>\n",
       "      <td>following the death of district attorney harve...</td>\n",
       "    </tr>\n",
       "    <tr>\n",
       "      <th>4</th>\n",
       "      <td>49529</td>\n",
       "      <td>John Carter</td>\n",
       "      <td>6.096711</td>\n",
       "      <td>john carter is a war-weary, former military ca...</td>\n",
       "    </tr>\n",
       "  </tbody>\n",
       "</table>\n",
       "</div>"
      ],
      "text/plain": [
       "       id                                     title  weighted_rating  \\\n",
       "0   19995                                    Avatar         7.050580   \n",
       "1     285  Pirates of the Caribbean: At World's End         6.665668   \n",
       "2  206647                                   Spectre         6.239550   \n",
       "3   49026                     The Dark Knight Rises         7.346536   \n",
       "4   49529                               John Carter         6.096711   \n",
       "\n",
       "                                         description  \n",
       "0  in the 22nd century, a paraplegic marine is di...  \n",
       "1  captain barbossa, long believed to be dead, ha...  \n",
       "2  a cryptic message from bond’s past sends him o...  \n",
       "3  following the death of district attorney harve...  \n",
       "4  john carter is a war-weary, former military ca...  "
      ]
     },
     "execution_count": 5,
     "metadata": {},
     "output_type": "execute_result"
    }
   ],
   "source": [
    "df.head()"
   ]
  },
  {
   "cell_type": "markdown",
   "id": "9777d7cb-edbe-4029-9e75-53543a48a269",
   "metadata": {},
   "source": [
    "# Remove Punctuation"
   ]
  },
  {
   "cell_type": "code",
   "execution_count": 6,
   "id": "3de5d147-ab14-487e-bc47-519ec4386835",
   "metadata": {},
   "outputs": [],
   "source": [
    "def remove_punc(text):\n",
    "    return text.translate(str.maketrans('','',string.punctuation))\n",
    "df['description'] = df['description'].apply(remove_punc)"
   ]
  },
  {
   "cell_type": "code",
   "execution_count": 7,
   "id": "0605d113-77b4-4e78-a119-abf977715f79",
   "metadata": {},
   "outputs": [
    {
     "data": {
      "text/html": [
       "<div>\n",
       "<style scoped>\n",
       "    .dataframe tbody tr th:only-of-type {\n",
       "        vertical-align: middle;\n",
       "    }\n",
       "\n",
       "    .dataframe tbody tr th {\n",
       "        vertical-align: top;\n",
       "    }\n",
       "\n",
       "    .dataframe thead th {\n",
       "        text-align: right;\n",
       "    }\n",
       "</style>\n",
       "<table border=\"1\" class=\"dataframe\">\n",
       "  <thead>\n",
       "    <tr style=\"text-align: right;\">\n",
       "      <th></th>\n",
       "      <th>id</th>\n",
       "      <th>title</th>\n",
       "      <th>weighted_rating</th>\n",
       "      <th>description</th>\n",
       "    </tr>\n",
       "  </thead>\n",
       "  <tbody>\n",
       "    <tr>\n",
       "      <th>0</th>\n",
       "      <td>19995</td>\n",
       "      <td>Avatar</td>\n",
       "      <td>7.050580</td>\n",
       "      <td>in the 22nd century a paraplegic marine is dis...</td>\n",
       "    </tr>\n",
       "    <tr>\n",
       "      <th>1</th>\n",
       "      <td>285</td>\n",
       "      <td>Pirates of the Caribbean: At World's End</td>\n",
       "      <td>6.665668</td>\n",
       "      <td>captain barbossa long believed to be dead has ...</td>\n",
       "    </tr>\n",
       "    <tr>\n",
       "      <th>2</th>\n",
       "      <td>206647</td>\n",
       "      <td>Spectre</td>\n",
       "      <td>6.239550</td>\n",
       "      <td>a cryptic message from bond’s past sends him o...</td>\n",
       "    </tr>\n",
       "    <tr>\n",
       "      <th>3</th>\n",
       "      <td>49026</td>\n",
       "      <td>The Dark Knight Rises</td>\n",
       "      <td>7.346536</td>\n",
       "      <td>following the death of district attorney harve...</td>\n",
       "    </tr>\n",
       "    <tr>\n",
       "      <th>4</th>\n",
       "      <td>49529</td>\n",
       "      <td>John Carter</td>\n",
       "      <td>6.096711</td>\n",
       "      <td>john carter is a warweary former military capt...</td>\n",
       "    </tr>\n",
       "  </tbody>\n",
       "</table>\n",
       "</div>"
      ],
      "text/plain": [
       "       id                                     title  weighted_rating  \\\n",
       "0   19995                                    Avatar         7.050580   \n",
       "1     285  Pirates of the Caribbean: At World's End         6.665668   \n",
       "2  206647                                   Spectre         6.239550   \n",
       "3   49026                     The Dark Knight Rises         7.346536   \n",
       "4   49529                               John Carter         6.096711   \n",
       "\n",
       "                                         description  \n",
       "0  in the 22nd century a paraplegic marine is dis...  \n",
       "1  captain barbossa long believed to be dead has ...  \n",
       "2  a cryptic message from bond’s past sends him o...  \n",
       "3  following the death of district attorney harve...  \n",
       "4  john carter is a warweary former military capt...  "
      ]
     },
     "execution_count": 7,
     "metadata": {},
     "output_type": "execute_result"
    }
   ],
   "source": [
    "df.head()"
   ]
  },
  {
   "cell_type": "markdown",
   "id": "0a964fd0-e586-4a83-8f59-c0c110a02dfc",
   "metadata": {},
   "source": [
    "# Removing Stop Words"
   ]
  },
  {
   "cell_type": "code",
   "execution_count": 8,
   "id": "e4680fb5-1916-4c2d-a2fd-43794fd7399f",
   "metadata": {},
   "outputs": [
    {
     "name": "stderr",
     "output_type": "stream",
     "text": [
      "[nltk_data] Downloading package stopwords to\n",
      "[nltk_data]     C:\\Users\\ANIKET\\AppData\\Roaming\\nltk_data...\n",
      "[nltk_data]   Package stopwords is already up-to-date!\n"
     ]
    },
    {
     "data": {
      "text/plain": [
       "True"
      ]
     },
     "execution_count": 8,
     "metadata": {},
     "output_type": "execute_result"
    }
   ],
   "source": [
    "nltk.download('stopwords')"
   ]
  },
  {
   "cell_type": "code",
   "execution_count": 9,
   "id": "dbb6225d-dc4b-456a-915e-5dd739f19c26",
   "metadata": {},
   "outputs": [],
   "source": [
    "stopword_list = stopwords.words('english')"
   ]
  },
  {
   "cell_type": "code",
   "execution_count": 10,
   "id": "878f6b0a-5fbb-49de-9884-1c9fd3db074b",
   "metadata": {},
   "outputs": [],
   "source": [
    "def remove_stopwords(text):\n",
    "    filtered_word = [i for i in text.split() if i not in stopword_list]\n",
    "    return ' '.join(filtered_word)"
   ]
  },
  {
   "cell_type": "code",
   "execution_count": 11,
   "id": "620a8fe4-07bd-4ec2-88bf-5fa2debc3d65",
   "metadata": {},
   "outputs": [],
   "source": [
    "df['description'] = df['description'].apply(remove_stopwords)"
   ]
  },
  {
   "cell_type": "code",
   "execution_count": 12,
   "id": "7725df4c-d630-4dfa-a5b9-ce3328e0c0f2",
   "metadata": {},
   "outputs": [
    {
     "data": {
      "text/html": [
       "<div>\n",
       "<style scoped>\n",
       "    .dataframe tbody tr th:only-of-type {\n",
       "        vertical-align: middle;\n",
       "    }\n",
       "\n",
       "    .dataframe tbody tr th {\n",
       "        vertical-align: top;\n",
       "    }\n",
       "\n",
       "    .dataframe thead th {\n",
       "        text-align: right;\n",
       "    }\n",
       "</style>\n",
       "<table border=\"1\" class=\"dataframe\">\n",
       "  <thead>\n",
       "    <tr style=\"text-align: right;\">\n",
       "      <th></th>\n",
       "      <th>id</th>\n",
       "      <th>title</th>\n",
       "      <th>weighted_rating</th>\n",
       "      <th>description</th>\n",
       "    </tr>\n",
       "  </thead>\n",
       "  <tbody>\n",
       "    <tr>\n",
       "      <th>0</th>\n",
       "      <td>19995</td>\n",
       "      <td>Avatar</td>\n",
       "      <td>7.050580</td>\n",
       "      <td>22nd century paraplegic marine dispatched moon...</td>\n",
       "    </tr>\n",
       "    <tr>\n",
       "      <th>1</th>\n",
       "      <td>285</td>\n",
       "      <td>Pirates of the Caribbean: At World's End</td>\n",
       "      <td>6.665668</td>\n",
       "      <td>captain barbossa long believed dead come back ...</td>\n",
       "    </tr>\n",
       "    <tr>\n",
       "      <th>2</th>\n",
       "      <td>206647</td>\n",
       "      <td>Spectre</td>\n",
       "      <td>6.239550</td>\n",
       "      <td>cryptic message bond’s past sends trail uncove...</td>\n",
       "    </tr>\n",
       "    <tr>\n",
       "      <th>3</th>\n",
       "      <td>49026</td>\n",
       "      <td>The Dark Knight Rises</td>\n",
       "      <td>7.346536</td>\n",
       "      <td>following death district attorney harvey dent ...</td>\n",
       "    </tr>\n",
       "    <tr>\n",
       "      <th>4</th>\n",
       "      <td>49529</td>\n",
       "      <td>John Carter</td>\n",
       "      <td>6.096711</td>\n",
       "      <td>john carter warweary former military captain w...</td>\n",
       "    </tr>\n",
       "  </tbody>\n",
       "</table>\n",
       "</div>"
      ],
      "text/plain": [
       "       id                                     title  weighted_rating  \\\n",
       "0   19995                                    Avatar         7.050580   \n",
       "1     285  Pirates of the Caribbean: At World's End         6.665668   \n",
       "2  206647                                   Spectre         6.239550   \n",
       "3   49026                     The Dark Knight Rises         7.346536   \n",
       "4   49529                               John Carter         6.096711   \n",
       "\n",
       "                                         description  \n",
       "0  22nd century paraplegic marine dispatched moon...  \n",
       "1  captain barbossa long believed dead come back ...  \n",
       "2  cryptic message bond’s past sends trail uncove...  \n",
       "3  following death district attorney harvey dent ...  \n",
       "4  john carter warweary former military captain w...  "
      ]
     },
     "execution_count": 12,
     "metadata": {},
     "output_type": "execute_result"
    }
   ],
   "source": [
    "df.head()"
   ]
  },
  {
   "cell_type": "markdown",
   "id": "9a28b486-a4a1-40d0-84f1-777ddbf92107",
   "metadata": {},
   "source": [
    "# Tokenization & Lemmatization"
   ]
  },
  {
   "cell_type": "code",
   "execution_count": 13,
   "id": "3ca19730-c847-4f8b-944d-0a7e6fc64206",
   "metadata": {},
   "outputs": [
    {
     "name": "stderr",
     "output_type": "stream",
     "text": [
      "[nltk_data] Downloading package punkt_tab to\n",
      "[nltk_data]     C:\\Users\\ANIKET\\AppData\\Roaming\\nltk_data...\n",
      "[nltk_data]   Package punkt_tab is already up-to-date!\n",
      "[nltk_data] Downloading package wordnet to\n",
      "[nltk_data]     C:\\Users\\ANIKET\\AppData\\Roaming\\nltk_data...\n",
      "[nltk_data]   Package wordnet is already up-to-date!\n"
     ]
    },
    {
     "data": {
      "text/plain": [
       "True"
      ]
     },
     "execution_count": 13,
     "metadata": {},
     "output_type": "execute_result"
    }
   ],
   "source": [
    "nltk.download('punkt_tab')\n",
    "nltk.download('wordnet')"
   ]
  },
  {
   "cell_type": "code",
   "execution_count": 14,
   "id": "9c216112-d0e3-47ae-86a1-893c9f673326",
   "metadata": {},
   "outputs": [],
   "source": [
    "wnl = WordNetLemmatizer()\n",
    "def process(text):\n",
    "    tokens = word_tokenize(text)\n",
    "    filtered_tokens = [wnl.lemmatize(word) for word in tokens]\n",
    "    return filtered_tokens\n",
    "df['tokens'] = df['description'].apply(process)"
   ]
  },
  {
   "cell_type": "code",
   "execution_count": 15,
   "id": "d9a1b628-19cb-4173-9028-7fe4c0f0025a",
   "metadata": {},
   "outputs": [
    {
     "data": {
      "text/html": [
       "<div>\n",
       "<style scoped>\n",
       "    .dataframe tbody tr th:only-of-type {\n",
       "        vertical-align: middle;\n",
       "    }\n",
       "\n",
       "    .dataframe tbody tr th {\n",
       "        vertical-align: top;\n",
       "    }\n",
       "\n",
       "    .dataframe thead th {\n",
       "        text-align: right;\n",
       "    }\n",
       "</style>\n",
       "<table border=\"1\" class=\"dataframe\">\n",
       "  <thead>\n",
       "    <tr style=\"text-align: right;\">\n",
       "      <th></th>\n",
       "      <th>id</th>\n",
       "      <th>title</th>\n",
       "      <th>weighted_rating</th>\n",
       "      <th>description</th>\n",
       "      <th>tokens</th>\n",
       "    </tr>\n",
       "  </thead>\n",
       "  <tbody>\n",
       "    <tr>\n",
       "      <th>0</th>\n",
       "      <td>19995</td>\n",
       "      <td>Avatar</td>\n",
       "      <td>7.050580</td>\n",
       "      <td>22nd century paraplegic marine dispatched moon...</td>\n",
       "      <td>[22nd, century, paraplegic, marine, dispatched...</td>\n",
       "    </tr>\n",
       "    <tr>\n",
       "      <th>1</th>\n",
       "      <td>285</td>\n",
       "      <td>Pirates of the Caribbean: At World's End</td>\n",
       "      <td>6.665668</td>\n",
       "      <td>captain barbossa long believed dead come back ...</td>\n",
       "      <td>[captain, barbossa, long, believed, dead, come...</td>\n",
       "    </tr>\n",
       "    <tr>\n",
       "      <th>2</th>\n",
       "      <td>206647</td>\n",
       "      <td>Spectre</td>\n",
       "      <td>6.239550</td>\n",
       "      <td>cryptic message bond’s past sends trail uncove...</td>\n",
       "      <td>[cryptic, message, bond, ’, s, past, sends, tr...</td>\n",
       "    </tr>\n",
       "    <tr>\n",
       "      <th>3</th>\n",
       "      <td>49026</td>\n",
       "      <td>The Dark Knight Rises</td>\n",
       "      <td>7.346536</td>\n",
       "      <td>following death district attorney harvey dent ...</td>\n",
       "      <td>[following, death, district, attorney, harvey,...</td>\n",
       "    </tr>\n",
       "    <tr>\n",
       "      <th>4</th>\n",
       "      <td>49529</td>\n",
       "      <td>John Carter</td>\n",
       "      <td>6.096711</td>\n",
       "      <td>john carter warweary former military captain w...</td>\n",
       "      <td>[john, carter, warweary, former, military, cap...</td>\n",
       "    </tr>\n",
       "  </tbody>\n",
       "</table>\n",
       "</div>"
      ],
      "text/plain": [
       "       id                                     title  weighted_rating  \\\n",
       "0   19995                                    Avatar         7.050580   \n",
       "1     285  Pirates of the Caribbean: At World's End         6.665668   \n",
       "2  206647                                   Spectre         6.239550   \n",
       "3   49026                     The Dark Knight Rises         7.346536   \n",
       "4   49529                               John Carter         6.096711   \n",
       "\n",
       "                                         description  \\\n",
       "0  22nd century paraplegic marine dispatched moon...   \n",
       "1  captain barbossa long believed dead come back ...   \n",
       "2  cryptic message bond’s past sends trail uncove...   \n",
       "3  following death district attorney harvey dent ...   \n",
       "4  john carter warweary former military captain w...   \n",
       "\n",
       "                                              tokens  \n",
       "0  [22nd, century, paraplegic, marine, dispatched...  \n",
       "1  [captain, barbossa, long, believed, dead, come...  \n",
       "2  [cryptic, message, bond, ’, s, past, sends, tr...  \n",
       "3  [following, death, district, attorney, harvey,...  \n",
       "4  [john, carter, warweary, former, military, cap...  "
      ]
     },
     "execution_count": 15,
     "metadata": {},
     "output_type": "execute_result"
    }
   ],
   "source": [
    "df.head()"
   ]
  },
  {
   "cell_type": "markdown",
   "id": "fc57faeb-4316-4999-9db4-8c0a7421abc8",
   "metadata": {},
   "source": [
    "# Train Word2Vec Model"
   ]
  },
  {
   "cell_type": "code",
   "execution_count": 16,
   "id": "8ae639b6-614e-49bb-9ed6-e3ae90b065f3",
   "metadata": {},
   "outputs": [],
   "source": [
    "cbow_model = Word2Vec(sentences=df['tokens'],vector_size=100,window=5,min_count=1,sg=0,alpha=0.02,min_alpha=0.0007,epochs=80)"
   ]
  },
  {
   "cell_type": "code",
   "execution_count": 17,
   "id": "91c9e78b-321d-4929-a7c4-fa9ca0258e27",
   "metadata": {},
   "outputs": [
    {
     "name": "stdout",
     "output_type": "stream",
     "text": [
      "38672\n"
     ]
    }
   ],
   "source": [
    "print(len(cbow_model.wv))"
   ]
  },
  {
   "cell_type": "code",
   "execution_count": 18,
   "id": "aedcb956-4373-4044-863e-3de562625e80",
   "metadata": {},
   "outputs": [
    {
     "data": {
      "text/plain": [
       "[('annihilation', 0.589390218257904),\n",
       " ('avenger', 0.585176944732666),\n",
       " ('joker', 0.570216178894043),\n",
       " ('izmir', 0.5553566813468933),\n",
       " ('catburglar', 0.5467385053634644),\n",
       " ('ultron', 0.5466200113296509),\n",
       " ('enacting', 0.5465300679206848),\n",
       " ('magna', 0.5450161099433899),\n",
       " ('symbol', 0.5445861220359802),\n",
       " ('pharaoh', 0.5439357757568359)]"
      ]
     },
     "execution_count": 18,
     "metadata": {},
     "output_type": "execute_result"
    }
   ],
   "source": [
    "cbow_model.wv.most_similar('batman')"
   ]
  },
  {
   "cell_type": "markdown",
   "id": "b6a02ec2-1043-4199-9018-4b769386ae56",
   "metadata": {},
   "source": [
    "# Average Vector for Movies"
   ]
  },
  {
   "cell_type": "code",
   "execution_count": 19,
   "id": "37879b9a-a7d8-4fff-948d-f7eadc09d927",
   "metadata": {},
   "outputs": [],
   "source": [
    "def generate_avg(tokens):\n",
    "    vectors = [cbow_model.wv[word] for word in tokens if word in cbow_model.wv]\n",
    "    if not vectors:\n",
    "        return np.zeros(cbow_mpdel.vector_size)\n",
    "    return np.mean(vectors,axis=0)\n",
    "df['vectors'] = df['tokens'].apply(generate_avg)"
   ]
  },
  {
   "cell_type": "code",
   "execution_count": 20,
   "id": "d8969632-3fef-4fa6-9d88-1074b109d56e",
   "metadata": {},
   "outputs": [
    {
     "data": {
      "text/html": [
       "<div>\n",
       "<style scoped>\n",
       "    .dataframe tbody tr th:only-of-type {\n",
       "        vertical-align: middle;\n",
       "    }\n",
       "\n",
       "    .dataframe tbody tr th {\n",
       "        vertical-align: top;\n",
       "    }\n",
       "\n",
       "    .dataframe thead th {\n",
       "        text-align: right;\n",
       "    }\n",
       "</style>\n",
       "<table border=\"1\" class=\"dataframe\">\n",
       "  <thead>\n",
       "    <tr style=\"text-align: right;\">\n",
       "      <th></th>\n",
       "      <th>id</th>\n",
       "      <th>title</th>\n",
       "      <th>weighted_rating</th>\n",
       "      <th>description</th>\n",
       "      <th>tokens</th>\n",
       "      <th>vectors</th>\n",
       "    </tr>\n",
       "  </thead>\n",
       "  <tbody>\n",
       "    <tr>\n",
       "      <th>0</th>\n",
       "      <td>19995</td>\n",
       "      <td>Avatar</td>\n",
       "      <td>7.050580</td>\n",
       "      <td>22nd century paraplegic marine dispatched moon...</td>\n",
       "      <td>[22nd, century, paraplegic, marine, dispatched...</td>\n",
       "      <td>[-0.16202632, 0.12982473, -0.35071015, -0.1620...</td>\n",
       "    </tr>\n",
       "    <tr>\n",
       "      <th>1</th>\n",
       "      <td>285</td>\n",
       "      <td>Pirates of the Caribbean: At World's End</td>\n",
       "      <td>6.665668</td>\n",
       "      <td>captain barbossa long believed dead come back ...</td>\n",
       "      <td>[captain, barbossa, long, believed, dead, come...</td>\n",
       "      <td>[-0.373258, 0.038260866, -0.26240003, -0.26230...</td>\n",
       "    </tr>\n",
       "    <tr>\n",
       "      <th>2</th>\n",
       "      <td>206647</td>\n",
       "      <td>Spectre</td>\n",
       "      <td>6.239550</td>\n",
       "      <td>cryptic message bond’s past sends trail uncove...</td>\n",
       "      <td>[cryptic, message, bond, ’, s, past, sends, tr...</td>\n",
       "      <td>[-0.2768787, -0.5192937, -0.8795872, -0.392900...</td>\n",
       "    </tr>\n",
       "    <tr>\n",
       "      <th>3</th>\n",
       "      <td>49026</td>\n",
       "      <td>The Dark Knight Rises</td>\n",
       "      <td>7.346536</td>\n",
       "      <td>following death district attorney harvey dent ...</td>\n",
       "      <td>[following, death, district, attorney, harvey,...</td>\n",
       "      <td>[0.15796813, 0.19392867, -0.11643412, -0.15233...</td>\n",
       "    </tr>\n",
       "    <tr>\n",
       "      <th>4</th>\n",
       "      <td>49529</td>\n",
       "      <td>John Carter</td>\n",
       "      <td>6.096711</td>\n",
       "      <td>john carter warweary former military captain w...</td>\n",
       "      <td>[john, carter, warweary, former, military, cap...</td>\n",
       "      <td>[-0.07674223, 0.0494658, -0.48689413, -0.46356...</td>\n",
       "    </tr>\n",
       "  </tbody>\n",
       "</table>\n",
       "</div>"
      ],
      "text/plain": [
       "       id                                     title  weighted_rating  \\\n",
       "0   19995                                    Avatar         7.050580   \n",
       "1     285  Pirates of the Caribbean: At World's End         6.665668   \n",
       "2  206647                                   Spectre         6.239550   \n",
       "3   49026                     The Dark Knight Rises         7.346536   \n",
       "4   49529                               John Carter         6.096711   \n",
       "\n",
       "                                         description  \\\n",
       "0  22nd century paraplegic marine dispatched moon...   \n",
       "1  captain barbossa long believed dead come back ...   \n",
       "2  cryptic message bond’s past sends trail uncove...   \n",
       "3  following death district attorney harvey dent ...   \n",
       "4  john carter warweary former military captain w...   \n",
       "\n",
       "                                              tokens  \\\n",
       "0  [22nd, century, paraplegic, marine, dispatched...   \n",
       "1  [captain, barbossa, long, believed, dead, come...   \n",
       "2  [cryptic, message, bond, ’, s, past, sends, tr...   \n",
       "3  [following, death, district, attorney, harvey,...   \n",
       "4  [john, carter, warweary, former, military, cap...   \n",
       "\n",
       "                                             vectors  \n",
       "0  [-0.16202632, 0.12982473, -0.35071015, -0.1620...  \n",
       "1  [-0.373258, 0.038260866, -0.26240003, -0.26230...  \n",
       "2  [-0.2768787, -0.5192937, -0.8795872, -0.392900...  \n",
       "3  [0.15796813, 0.19392867, -0.11643412, -0.15233...  \n",
       "4  [-0.07674223, 0.0494658, -0.48689413, -0.46356...  "
      ]
     },
     "execution_count": 20,
     "metadata": {},
     "output_type": "execute_result"
    }
   ],
   "source": [
    "df.head()"
   ]
  },
  {
   "cell_type": "code",
   "execution_count": 21,
   "id": "2a7cbc1c-384d-4c2b-8c10-dde6ab2a678b",
   "metadata": {},
   "outputs": [],
   "source": [
    "def combine_vector_with_rating(row):\n",
    "    vector = row['vectors']\n",
    "    rating = row['weighted_rating']\n",
    "    return np.append(vector,rating)\n",
    "df['combined_vector'] = df.apply(combine_vector_with_rating,axis=1)"
   ]
  },
  {
   "cell_type": "code",
   "execution_count": 22,
   "id": "192808dd-55cc-48d1-ac3a-5032e4311fc7",
   "metadata": {},
   "outputs": [
    {
     "data": {
      "text/html": [
       "<div>\n",
       "<style scoped>\n",
       "    .dataframe tbody tr th:only-of-type {\n",
       "        vertical-align: middle;\n",
       "    }\n",
       "\n",
       "    .dataframe tbody tr th {\n",
       "        vertical-align: top;\n",
       "    }\n",
       "\n",
       "    .dataframe thead th {\n",
       "        text-align: right;\n",
       "    }\n",
       "</style>\n",
       "<table border=\"1\" class=\"dataframe\">\n",
       "  <thead>\n",
       "    <tr style=\"text-align: right;\">\n",
       "      <th></th>\n",
       "      <th>id</th>\n",
       "      <th>title</th>\n",
       "      <th>weighted_rating</th>\n",
       "      <th>description</th>\n",
       "      <th>tokens</th>\n",
       "      <th>vectors</th>\n",
       "      <th>combined_vector</th>\n",
       "    </tr>\n",
       "  </thead>\n",
       "  <tbody>\n",
       "    <tr>\n",
       "      <th>0</th>\n",
       "      <td>19995</td>\n",
       "      <td>Avatar</td>\n",
       "      <td>7.050580</td>\n",
       "      <td>22nd century paraplegic marine dispatched moon...</td>\n",
       "      <td>[22nd, century, paraplegic, marine, dispatched...</td>\n",
       "      <td>[-0.16202632, 0.12982473, -0.35071015, -0.1620...</td>\n",
       "      <td>[-0.1620263159275055, 0.12982472777366638, -0....</td>\n",
       "    </tr>\n",
       "    <tr>\n",
       "      <th>1</th>\n",
       "      <td>285</td>\n",
       "      <td>Pirates of the Caribbean: At World's End</td>\n",
       "      <td>6.665668</td>\n",
       "      <td>captain barbossa long believed dead come back ...</td>\n",
       "      <td>[captain, barbossa, long, believed, dead, come...</td>\n",
       "      <td>[-0.373258, 0.038260866, -0.26240003, -0.26230...</td>\n",
       "      <td>[-0.37325799465179443, 0.038260865956544876, -...</td>\n",
       "    </tr>\n",
       "    <tr>\n",
       "      <th>2</th>\n",
       "      <td>206647</td>\n",
       "      <td>Spectre</td>\n",
       "      <td>6.239550</td>\n",
       "      <td>cryptic message bond’s past sends trail uncove...</td>\n",
       "      <td>[cryptic, message, bond, ’, s, past, sends, tr...</td>\n",
       "      <td>[-0.2768787, -0.5192937, -0.8795872, -0.392900...</td>\n",
       "      <td>[-0.2768787145614624, -0.5192937254905701, -0....</td>\n",
       "    </tr>\n",
       "    <tr>\n",
       "      <th>3</th>\n",
       "      <td>49026</td>\n",
       "      <td>The Dark Knight Rises</td>\n",
       "      <td>7.346536</td>\n",
       "      <td>following death district attorney harvey dent ...</td>\n",
       "      <td>[following, death, district, attorney, harvey,...</td>\n",
       "      <td>[0.15796813, 0.19392867, -0.11643412, -0.15233...</td>\n",
       "      <td>[0.15796813368797302, 0.19392867386341095, -0....</td>\n",
       "    </tr>\n",
       "    <tr>\n",
       "      <th>4</th>\n",
       "      <td>49529</td>\n",
       "      <td>John Carter</td>\n",
       "      <td>6.096711</td>\n",
       "      <td>john carter warweary former military captain w...</td>\n",
       "      <td>[john, carter, warweary, former, military, cap...</td>\n",
       "      <td>[-0.07674223, 0.0494658, -0.48689413, -0.46356...</td>\n",
       "      <td>[-0.07674223184585571, 0.04946580156683922, -0...</td>\n",
       "    </tr>\n",
       "  </tbody>\n",
       "</table>\n",
       "</div>"
      ],
      "text/plain": [
       "       id                                     title  weighted_rating  \\\n",
       "0   19995                                    Avatar         7.050580   \n",
       "1     285  Pirates of the Caribbean: At World's End         6.665668   \n",
       "2  206647                                   Spectre         6.239550   \n",
       "3   49026                     The Dark Knight Rises         7.346536   \n",
       "4   49529                               John Carter         6.096711   \n",
       "\n",
       "                                         description  \\\n",
       "0  22nd century paraplegic marine dispatched moon...   \n",
       "1  captain barbossa long believed dead come back ...   \n",
       "2  cryptic message bond’s past sends trail uncove...   \n",
       "3  following death district attorney harvey dent ...   \n",
       "4  john carter warweary former military captain w...   \n",
       "\n",
       "                                              tokens  \\\n",
       "0  [22nd, century, paraplegic, marine, dispatched...   \n",
       "1  [captain, barbossa, long, believed, dead, come...   \n",
       "2  [cryptic, message, bond, ’, s, past, sends, tr...   \n",
       "3  [following, death, district, attorney, harvey,...   \n",
       "4  [john, carter, warweary, former, military, cap...   \n",
       "\n",
       "                                             vectors  \\\n",
       "0  [-0.16202632, 0.12982473, -0.35071015, -0.1620...   \n",
       "1  [-0.373258, 0.038260866, -0.26240003, -0.26230...   \n",
       "2  [-0.2768787, -0.5192937, -0.8795872, -0.392900...   \n",
       "3  [0.15796813, 0.19392867, -0.11643412, -0.15233...   \n",
       "4  [-0.07674223, 0.0494658, -0.48689413, -0.46356...   \n",
       "\n",
       "                                     combined_vector  \n",
       "0  [-0.1620263159275055, 0.12982472777366638, -0....  \n",
       "1  [-0.37325799465179443, 0.038260865956544876, -...  \n",
       "2  [-0.2768787145614624, -0.5192937254905701, -0....  \n",
       "3  [0.15796813368797302, 0.19392867386341095, -0....  \n",
       "4  [-0.07674223184585571, 0.04946580156683922, -0...  "
      ]
     },
     "execution_count": 22,
     "metadata": {},
     "output_type": "execute_result"
    }
   ],
   "source": [
    "df.head()"
   ]
  },
  {
   "cell_type": "code",
   "execution_count": 23,
   "id": "572b8d6b-48d4-4c0d-9c47-57b65d810819",
   "metadata": {},
   "outputs": [
    {
     "data": {
      "text/plain": [
       "(100,)"
      ]
     },
     "execution_count": 23,
     "metadata": {},
     "output_type": "execute_result"
    }
   ],
   "source": [
    "df['vectors'][0].shape"
   ]
  },
  {
   "cell_type": "code",
   "execution_count": 24,
   "id": "aa8002ba-3127-4e5c-b991-34ab182659f6",
   "metadata": {},
   "outputs": [
    {
     "data": {
      "text/plain": [
       "(101,)"
      ]
     },
     "execution_count": 24,
     "metadata": {},
     "output_type": "execute_result"
    }
   ],
   "source": [
    "df['combined_vector'][0].shape"
   ]
  },
  {
   "cell_type": "markdown",
   "id": "ba0b1588-d168-481e-97df-4d8e8809c700",
   "metadata": {},
   "source": [
    "# Saving Model"
   ]
  },
  {
   "cell_type": "code",
   "execution_count": 25,
   "id": "a61f73e9-e597-4742-90dd-e48c4aaac612",
   "metadata": {},
   "outputs": [],
   "source": [
    "df[['id','title','combined_vector']].to_pickle('../models/movies.pkl')"
   ]
  }
 ],
 "metadata": {
  "kernelspec": {
   "display_name": "DeepLearningEnv",
   "language": "python",
   "name": "deeplearningenv"
  },
  "language_info": {
   "codemirror_mode": {
    "name": "ipython",
    "version": 3
   },
   "file_extension": ".py",
   "mimetype": "text/x-python",
   "name": "python",
   "nbconvert_exporter": "python",
   "pygments_lexer": "ipython3",
   "version": "3.12.11"
  }
 },
 "nbformat": 4,
 "nbformat_minor": 5
}
